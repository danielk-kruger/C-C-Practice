{
 "cells": [
  {
   "cell_type": "markdown",
   "metadata": {},
   "source": [
    "## Pousada Caroline - Data Analysis"
   ]
  },
  {
   "cell_type": "markdown",
   "metadata": {},
   "source": [
    "##### CSV - Data cleaning"
   ]
  },
  {
   "cell_type": "code",
   "execution_count": 51,
   "metadata": {},
   "outputs": [],
   "source": [
    "import pandas as pd"
   ]
  },
  {
   "cell_type": "code",
   "execution_count": 52,
   "metadata": {},
   "outputs": [],
   "source": [
    "input_file = 'teste.csv'\n",
    "df = pd.read_csv(input_file, delimiter=';', dtype=str)"
   ]
  },
  {
   "cell_type": "code",
   "execution_count": 54,
   "metadata": {},
   "outputs": [
    {
     "name": "stdout",
     "output_type": "stream",
     "text": [
      "  CODIGO;NOME;SEXO;RAZÃO SOCIAL;FÍSICA/JURÍDICA;CPF;CNPJ;RG;INCR. EST.;DATA CADASTRO;ENDEREÇO;BAIRRO;CIDADE;ESTADO;CEP;TELE\n",
      "0  091978;ABIGAIL NATALIA VILLARRUEL;F;ABIGAIL NA...                                                                       \n",
      "1  093436;ABIMAEL VIANA;M;ABIMAEL VIANA;FÍSICA;34...                                                                       \n",
      "2  093157;ADAMILTON PERREIRA DA SILVA;M;ADAMILTON...                                                                       \n",
      "3  090239;ADEMILSON PEREIRA DA SILVA;M;ADEMILSON ...                                                                       \n",
      "4  093024;ADI, CELESTE SOLEDAD;M;ADI, CELESTE SOL...                                                                       \n",
      "5  089831;ADILSO FRANCA DE LIMA;M;ADILSO FRANCA D...                                                                       \n",
      "6  092480;ADILSON JOSÉ DA SILVA OLIVEIRA;M;ADILSO...                                                                       \n",
      "7  093831;ADMA BORGHI;F;ADMA BORGHI;FÍSICA;798356...                                                                       \n",
      "8  090923;ADOLAR CEZAR CARDOSO;M;ADOLAR CEZAR CAR...                                                                       \n",
      "9  092264;ADRIANA FERREIRA;F;ADRIANA FERREIRA;FÍS...                                                                       \n"
     ]
    }
   ],
   "source": [
    "print(df.head(10))"
   ]
  },
  {
   "cell_type": "code",
   "execution_count": null,
   "metadata": {},
   "outputs": [],
   "source": []
  }
 ],
 "metadata": {
  "kernelspec": {
   "display_name": "Python 3",
   "language": "python",
   "name": "python3"
  },
  "language_info": {
   "codemirror_mode": {
    "name": "ipython",
    "version": 3
   },
   "file_extension": ".py",
   "mimetype": "text/x-python",
   "name": "python",
   "nbconvert_exporter": "python",
   "pygments_lexer": "ipython3",
   "version": "3.10.8"
  },
  "orig_nbformat": 4
 },
 "nbformat": 4,
 "nbformat_minor": 2
}
